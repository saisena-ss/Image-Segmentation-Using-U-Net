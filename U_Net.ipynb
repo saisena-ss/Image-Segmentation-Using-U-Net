{
  "nbformat": 4,
  "nbformat_minor": 0,
  "metadata": {
    "colab": {
      "provenance": []
    },
    "kernelspec": {
      "name": "python3",
      "display_name": "Python 3"
    },
    "language_info": {
      "name": "python"
    }
  },
  "cells": [
    {
      "cell_type": "code",
      "source": [
        "import tensorflow as tf\n",
        "import os\n",
        "import numpy as np\n",
        "import matplotlib.pyplot as plt\n",
        "\n"
      ],
      "metadata": {
        "id": "yXzorkYba-4a"
      },
      "execution_count": 2,
      "outputs": []
    },
    {
      "cell_type": "code",
      "source": [
        "IMG_WIDTH = 128\n",
        "IMG_HEIGHT = 128\n",
        "IMG_CHANNELS = 3\n",
        "BATCH_SIZE = 32\n",
        "EPOCHS = 50"
      ],
      "metadata": {
        "id": "PYPr9NHOouiX"
      },
      "execution_count": null,
      "outputs": []
    },
    {
      "cell_type": "code",
      "source": [
        "inputs = tf.keras.layers.Input(shape=(IMG_WIDTH, IMG_HEIGHT, IMG_CHANNELS))\n",
        "\n",
        "#contractive path\n",
        "c1 = tf.keras.layers.Conv2D(16,(3,3),activation='relu',kernel_initializer='he_normal',padding='same')(inputs)\n",
        "c1 = tf.keras.layers.Dropout(0.1)(c1)\n",
        "c1 = tf.keras.layers.Conv2D(16,(3,3),activation='relu',kernel_initializer='he_normal',padding='same')(c1)\n",
        "\n",
        "c2 = tf.keras.layers.MaxPooling2D(pool_size=(2,2))(c1)\n",
        "c2 = tf.keras.layers.Conv2D(32,(3,3),activation='relu',kernel_initializer='he_normal',padding='same')(c2)\n",
        "c2 = tf.keras.layers.Dropout(0.1)(c2)\n",
        "c2 = tf.keras.layers.Conv2D(32,(3,3),activation='relu',kernel_initializer='he_normal',padding='same')(c2)\n",
        "\n",
        "c3 = tf.keras.layers.MaxPooling2D(pool_size=(2,2))(c2)\n",
        "c3 = tf.keras.layers.Conv2D(64,(3,3),activation='relu',kernel_initializer='he_normal',padding='same')(c3)\n",
        "c3 = tf.keras.layers.Dropout(0.2)(c3)\n",
        "c3 = tf.keras.layers.Conv2D(64,(3,3),activation='relu',kernel_initializer='he_normal',padding='same')(c3)\n",
        "\n",
        "c4 = tf.keras.layers.MaxPooling2D(pool_size=(2,2))(c3)\n",
        "c4 = tf.keras.layers.Conv2D(128,(3,3),activation='relu',kernel_initializer='he_normal',padding='same')(c4)\n",
        "c4 = tf.keras.layers.Dropout(0.2)(c4)\n",
        "c4 = tf.keras.layers.Conv2D(128,(3,3),activation='relu',kernel_initializer='he_normal',padding='same')(c4)\n",
        "\n",
        "c5 = tf.keras.layers.MaxPooling2D(pool_size=(2,2))(c4)\n",
        "c5 = tf.keras.layers.Conv2D(256,(3,3),activation='relu',kernel_initializer='he_normal',padding='same')(c5)\n",
        "c5 = tf.keras.layers.Dropout(0.3)(c5)\n",
        "c5 = tf.keras.layers.Conv2D(256,(3,3),activation='relu',kernel_initializer='he_normal',padding='same')(c5) #shape 8x8x256\n",
        "\n",
        "#expansion path\n",
        "c6 = tf.keras.layers.Conv2DTranspose(128,(2,2),strides=(2,2),padding='same')(c5)\n",
        "c6 = tf.keras.layers.concatenate([c4,c6])\n",
        "c6 = tf.keras.layers.Conv2D(128,(3,3),activation='relu',kernel_initializer='he_normal',padding='same')(c6)\n",
        "c6 = tf.keras.layers.Dropout(0.2)(c6)\n",
        "c6 = tf.keras.layers.Conv2D(128,(3,3),activation='relu',kernel_initializer='he_normal',padding='same')(c6)\n",
        "\n",
        "c7 = tf.keras.layers.Conv2DTranspose(64,(2,2),strides=(2,2),padding='same')(c6)\n",
        "c7 = tf.keras.layers.concatenate([c3,c7])\n",
        "c7 = tf.keras.layers.Conv2D(64,(3,3),activation='relu',kernel_initializer='he_normal',padding='same')(c7)\n",
        "c7 = tf.keras.layers.Dropout(0.2)(c7)\n",
        "c7 = tf.keras.layers.Conv2D(64,(3,3),activation='relu',kernel_initializer='he_normal',padding='same')(c7)\n",
        "\n",
        "c8 = tf.keras.layers.Conv2DTranspose(32,(2,2),strides=(2,2),padding='same')(c7)\n",
        "c8 = tf.keras.layers.concatenate([c2,c8])\n",
        "c8 = tf.keras.layers.Conv2D(32,(3,3),activation='relu',kernel_initializer='he_normal',padding='same')(c8)\n",
        "c8 = tf.keras.layers.Dropout(0.1)(c8)\n",
        "c8 = tf.keras.layers.Conv2D(32,(3,3),activation='relu',kernel_initializer='he_normal',padding='same')(c8)\n",
        "\n",
        "c9 = tf.keras.layers.Conv2DTranspose(16,(2,2),strides=(2,2),padding='same')(c8)\n",
        "c9 = tf.keras.layers.concatenate([c1,c9])\n",
        "c9 = tf.keras.layers.Conv2D(16,(3,3),activation='relu',kernel_initializer='he_normal',padding='same')(c9)\n",
        "c9 = tf.keras.layers.Dropout(0.1)(c9)\n",
        "c9 = tf.keras.layers.Conv2D(16,(3,3),activation='relu',kernel_initializer='he_normal',padding='same')(c9)\n",
        "\n",
        "outputs =  tf.keras.layers.Conv2D(1,(1,1),activation='sigmoid')(c9)\n",
        "\n",
        "model = tf.keras.Model(inputs=[inputs],outputs=[outputs])\n",
        "model.compile(optimizer='adam',loss='binary_crossentropy',metrics=['accuracy'])\n",
        "model.summary()"
      ],
      "metadata": {
        "colab": {
          "base_uri": "https://localhost:8080/"
        },
        "id": "m0e-eyJVa4BT",
        "outputId": "8170dacc-4796-4ef8-ba32-bb94a8a5a906"
      },
      "execution_count": 5,
      "outputs": [
        {
          "output_type": "stream",
          "name": "stdout",
          "text": [
            "Model: \"model\"\n",
            "__________________________________________________________________________________________________\n",
            " Layer (type)                Output Shape                 Param #   Connected to                  \n",
            "==================================================================================================\n",
            " input_3 (InputLayer)        [(None, 128, 128, 3)]        0         []                            \n",
            "                                                                                                  \n",
            " conv2d_12 (Conv2D)          (None, 128, 128, 16)         448       ['input_3[0][0]']             \n",
            "                                                                                                  \n",
            " dropout_6 (Dropout)         (None, 128, 128, 16)         0         ['conv2d_12[0][0]']           \n",
            "                                                                                                  \n",
            " conv2d_13 (Conv2D)          (None, 128, 128, 16)         2320      ['dropout_6[0][0]']           \n",
            "                                                                                                  \n",
            " max_pooling2d_4 (MaxPoolin  (None, 64, 64, 16)           0         ['conv2d_13[0][0]']           \n",
            " g2D)                                                                                             \n",
            "                                                                                                  \n",
            " conv2d_14 (Conv2D)          (None, 64, 64, 32)           4640      ['max_pooling2d_4[0][0]']     \n",
            "                                                                                                  \n",
            " dropout_7 (Dropout)         (None, 64, 64, 32)           0         ['conv2d_14[0][0]']           \n",
            "                                                                                                  \n",
            " conv2d_15 (Conv2D)          (None, 64, 64, 32)           9248      ['dropout_7[0][0]']           \n",
            "                                                                                                  \n",
            " max_pooling2d_5 (MaxPoolin  (None, 32, 32, 32)           0         ['conv2d_15[0][0]']           \n",
            " g2D)                                                                                             \n",
            "                                                                                                  \n",
            " conv2d_16 (Conv2D)          (None, 32, 32, 64)           18496     ['max_pooling2d_5[0][0]']     \n",
            "                                                                                                  \n",
            " dropout_8 (Dropout)         (None, 32, 32, 64)           0         ['conv2d_16[0][0]']           \n",
            "                                                                                                  \n",
            " conv2d_17 (Conv2D)          (None, 32, 32, 64)           36928     ['dropout_8[0][0]']           \n",
            "                                                                                                  \n",
            " max_pooling2d_6 (MaxPoolin  (None, 16, 16, 64)           0         ['conv2d_17[0][0]']           \n",
            " g2D)                                                                                             \n",
            "                                                                                                  \n",
            " conv2d_18 (Conv2D)          (None, 16, 16, 128)          73856     ['max_pooling2d_6[0][0]']     \n",
            "                                                                                                  \n",
            " dropout_9 (Dropout)         (None, 16, 16, 128)          0         ['conv2d_18[0][0]']           \n",
            "                                                                                                  \n",
            " conv2d_19 (Conv2D)          (None, 16, 16, 128)          147584    ['dropout_9[0][0]']           \n",
            "                                                                                                  \n",
            " max_pooling2d_7 (MaxPoolin  (None, 8, 8, 128)            0         ['conv2d_19[0][0]']           \n",
            " g2D)                                                                                             \n",
            "                                                                                                  \n",
            " conv2d_20 (Conv2D)          (None, 8, 8, 256)            295168    ['max_pooling2d_7[0][0]']     \n",
            "                                                                                                  \n",
            " dropout_10 (Dropout)        (None, 8, 8, 256)            0         ['conv2d_20[0][0]']           \n",
            "                                                                                                  \n",
            " conv2d_21 (Conv2D)          (None, 8, 8, 256)            590080    ['dropout_10[0][0]']          \n",
            "                                                                                                  \n",
            " conv2d_transpose_2 (Conv2D  (None, 16, 16, 128)          131200    ['conv2d_21[0][0]']           \n",
            " Transpose)                                                                                       \n",
            "                                                                                                  \n",
            " concatenate_2 (Concatenate  (None, 16, 16, 256)          0         ['conv2d_19[0][0]',           \n",
            " )                                                                   'conv2d_transpose_2[0][0]']  \n",
            "                                                                                                  \n",
            " conv2d_22 (Conv2D)          (None, 16, 16, 128)          295040    ['concatenate_2[0][0]']       \n",
            "                                                                                                  \n",
            " dropout_11 (Dropout)        (None, 16, 16, 128)          0         ['conv2d_22[0][0]']           \n",
            "                                                                                                  \n",
            " conv2d_23 (Conv2D)          (None, 16, 16, 128)          147584    ['dropout_11[0][0]']          \n",
            "                                                                                                  \n",
            " conv2d_transpose_3 (Conv2D  (None, 32, 32, 64)           32832     ['conv2d_23[0][0]']           \n",
            " Transpose)                                                                                       \n",
            "                                                                                                  \n",
            " concatenate_3 (Concatenate  (None, 32, 32, 128)          0         ['conv2d_17[0][0]',           \n",
            " )                                                                   'conv2d_transpose_3[0][0]']  \n",
            "                                                                                                  \n",
            " conv2d_24 (Conv2D)          (None, 32, 32, 64)           73792     ['concatenate_3[0][0]']       \n",
            "                                                                                                  \n",
            " dropout_12 (Dropout)        (None, 32, 32, 64)           0         ['conv2d_24[0][0]']           \n",
            "                                                                                                  \n",
            " conv2d_25 (Conv2D)          (None, 32, 32, 64)           36928     ['dropout_12[0][0]']          \n",
            "                                                                                                  \n",
            " conv2d_transpose_4 (Conv2D  (None, 64, 64, 32)           8224      ['conv2d_25[0][0]']           \n",
            " Transpose)                                                                                       \n",
            "                                                                                                  \n",
            " concatenate_4 (Concatenate  (None, 64, 64, 64)           0         ['conv2d_15[0][0]',           \n",
            " )                                                                   'conv2d_transpose_4[0][0]']  \n",
            "                                                                                                  \n",
            " conv2d_26 (Conv2D)          (None, 64, 64, 32)           18464     ['concatenate_4[0][0]']       \n",
            "                                                                                                  \n",
            " dropout_13 (Dropout)        (None, 64, 64, 32)           0         ['conv2d_26[0][0]']           \n",
            "                                                                                                  \n",
            " conv2d_27 (Conv2D)          (None, 64, 64, 32)           9248      ['dropout_13[0][0]']          \n",
            "                                                                                                  \n",
            " conv2d_transpose_5 (Conv2D  (None, 128, 128, 16)         2064      ['conv2d_27[0][0]']           \n",
            " Transpose)                                                                                       \n",
            "                                                                                                  \n",
            " concatenate_5 (Concatenate  (None, 128, 128, 32)         0         ['conv2d_13[0][0]',           \n",
            " )                                                                   'conv2d_transpose_5[0][0]']  \n",
            "                                                                                                  \n",
            " conv2d_28 (Conv2D)          (None, 128, 128, 16)         4624      ['concatenate_5[0][0]']       \n",
            "                                                                                                  \n",
            " dropout_14 (Dropout)        (None, 128, 128, 16)         0         ['conv2d_28[0][0]']           \n",
            "                                                                                                  \n",
            " conv2d_29 (Conv2D)          (None, 128, 128, 16)         2320      ['dropout_14[0][0]']          \n",
            "                                                                                                  \n",
            " conv2d_30 (Conv2D)          (None, 128, 128, 1)          17        ['conv2d_29[0][0]']           \n",
            "                                                                                                  \n",
            "==================================================================================================\n",
            "Total params: 1941105 (7.40 MB)\n",
            "Trainable params: 1941105 (7.40 MB)\n",
            "Non-trainable params: 0 (0.00 Byte)\n",
            "__________________________________________________________________________________________________\n"
          ]
        }
      ]
    },
    {
      "cell_type": "code",
      "source": [
        "#checkpoints and callbacks\n",
        "checkpoint = tf.keras.callbacks.ModelCheckpoint('model.h5',monitor='val_loss',verbose=1,save_best_only=True)\n",
        "callbacks = [tf.keras.callbacks.TensorBoard(log_dir='logs'),\n",
        "             tf.keras.callbacks.EarlyStopping(monitor='val_loss',patience=2),\n",
        "             checkpoint]"
      ],
      "metadata": {
        "id": "Q8KZT9wWepC0"
      },
      "execution_count": null,
      "outputs": []
    },
    {
      "cell_type": "code",
      "source": [
        "# prompt: Write a summary of this notebook\n",
        "\n",
        "This notebook demonstrates the implementation of a U-Net architecture for image segmentation using TensorFlow and Keras. The U-Net model is a popular deep learning architecture for biomedical image segmentation tasks.\n",
        "\n",
        "The notebook begins by defining the input and output shapes of the U-Net model. The model consists of a contracting path and an expansive path. The contracting path consists of four max pooling layers and four convolutional blocks. Each convolutional block includes two convolutional layers with a dropout layer in between. The expansive path consists of four upsampling layers and four convolutional blocks. Each upsampling layer is followed by a concatenation with the corresponding layer in the contracting path. The final layer is a 1x1 convolution layer with a sigmoid activation function to predict the segmentation mask.\n",
        "\n",
        "The model is compiled with the Adam optimizer and the binary cross-entropy loss function. The model summary is printed to show the number of parameters and the shapes of the layers.\n",
        "\n",
        "The notebook also defines a checkpoint callback to save the model with the best validation loss. The model is then trained on the provided dataset using the `fit` method.\n",
        "\n",
        "Finally, the notebook provides a brief summary of the U-Net architecture and its application in biomedical image segmentation."
      ],
      "metadata": {
        "id": "Fz0cENr-9id7"
      },
      "execution_count": null,
      "outputs": []
    },
    {
      "cell_type": "markdown",
      "source": [],
      "metadata": {
        "id": "y5JAit7i9iCt"
      }
    }
  ]
}